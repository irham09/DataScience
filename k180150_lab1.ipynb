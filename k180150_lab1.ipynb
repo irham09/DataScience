{
 "cells": [
  {
   "cell_type": "code",
   "execution_count": 1,
   "metadata": {
    "scrolled": true
   },
   "outputs": [
    {
     "name": "stdout",
     "output_type": "stream",
     "text": [
      "Input a:4\n",
      "Input b:3\n",
      "Input c:2\n",
      "Only Complex Roots!\n"
     ]
    }
   ],
   "source": [
    "#Q2\n",
    "a = int(input(\"Input a:\"))\n",
    "b = int(input(\"Input b:\"))\n",
    "c = int(input(\"Input c:\"))\n",
    "var1 = b*b\n",
    "var2 = a*c\n",
    "\n",
    "D = var1 - 4*var2\n",
    "\n",
    "if D > 0:\n",
    "    x1 = (-b + D**(1/2)) / (2*a)\n",
    "    x2 = (-b - D**(1/2)) / (2*a)\n",
    "    print(x1)\n",
    "    print(x2)\n",
    "    \n",
    "elif D == 0:\n",
    "    x= -b / (2*a)\n",
    "    print(x)\n",
    "    \n",
    "else:\n",
    "    print(\"Only Complex Roots!\")\n",
    "    "
   ]
  },
  {
   "cell_type": "code",
   "execution_count": null,
   "metadata": {},
   "outputs": [],
   "source": [
    "#Q3\n",
    "\n",
    "#lists = [13, 56, 21, 45, 20, 43, 12, 43, 6]\n",
    "\n",
    "import numpy as np\n",
    "from numpy import *\n",
    "lists = array([])\n",
    "inp1 = int(input(\"Enter the number of values you want:  \"))\n",
    "\n",
    "for i in range(inp1):\n",
    "    v = input(\"Element:  \")\n",
    "    lists = append(lists, v)\n",
    "#print(arr)\n",
    "\n",
    "\n",
    "\n",
    "\n",
    "def small(lists,size,num):\n",
    "    count=0\n",
    "    for i in lists:\n",
    "        if i < num:\n",
    "            count = count + 1\n",
    "    return(count)\n",
    "\n",
    "\n",
    "\n",
    "a = int(input(\"Enter number to compare from list:\"))\n",
    "count = small(lists,s,a)\n",
    "\n",
    "print(count)"
   ]
  },
  {
   "cell_type": "code",
   "execution_count": 3,
   "metadata": {},
   "outputs": [
    {
     "name": "stdout",
     "output_type": "stream",
     "text": [
      "[12, 24, 35, 88, 120, 155]\n"
     ]
    }
   ],
   "source": [
    "#Q4\n",
    "\n",
    "list_fr = [12,24,35,24,88,120,155,88,120,155]\n",
    "\n",
    "print(sorted(set(list_fr)))"
   ]
  },
  {
   "cell_type": "code",
   "execution_count": 1,
   "metadata": {},
   "outputs": [
    {
     "name": "stdout",
     "output_type": "stream",
     "text": [
      "[12, 35]\n"
     ]
    }
   ],
   "source": [
    "#Q5\n",
    "\n",
    "l1 = [12,3,6,78,35,55]\n",
    "l2 = [12,24,35,24,88,120,155]\n",
    "\n",
    "l3 = set(l1)\n",
    "l3 &= set(l2)\n",
    "\n",
    "print(sorted(l3))"
   ]
  },
  {
   "cell_type": "code",
   "execution_count": 2,
   "metadata": {},
   "outputs": [
    {
     "name": "stdout",
     "output_type": "stream",
     "text": [
      "Enter your weight:65\n",
      "Enter your height:163\n",
      "Your BMI is: 0.002446460160337235\n"
     ]
    }
   ],
   "source": [
    "#Q6\n",
    "\n",
    "wght = float(input(\"Enter your weight:\"))\n",
    "hght = float(input(\"Enter your height:\"))\n",
    "\n",
    "BMI = wght / (hght**2)\n",
    "print(\"Your BMI is:\", BMI)"
   ]
  },
  {
   "cell_type": "code",
   "execution_count": 6,
   "metadata": {},
   "outputs": [
    {
     "name": "stdout",
     "output_type": "stream",
     "text": [
      "Enter your yearly salary:2000\n",
      "Your seven years of salary is: 18200.00\n"
     ]
    }
   ],
   "source": [
    "#Q7\n",
    "\n",
    "growth_multiplier = 1.3\n",
    "yearly_salary = float(input(\"Your yearly salary:\"))\n",
    "\n",
    "print(\"Seven years of salary is: %.2f\" % (7 * (yearly_salary * growth_multiplier)))"
   ]
  },
  {
   "cell_type": "code",
   "execution_count": 7,
   "metadata": {},
   "outputs": [
    {
     "name": "stdout",
     "output_type": "stream",
     "text": [
      "Enter your weight in kilograms:100\n",
      "Your weight in stones is: 15.71\n"
     ]
    }
   ],
   "source": [
    "#Q8\n",
    "\n",
    "m = float(input(\"Enter your weight in kgs:\"))\n",
    "\n",
    "print(\"Your weight in stones is: %.2f\" % ((m * 2.2) / 14))"
   ]
  },
  {
   "cell_type": "code",
   "execution_count": 3,
   "metadata": {},
   "outputs": [
    {
     "name": "stdout",
     "output_type": "stream",
     "text": [
      "Enter your no of rooms:2\n",
      "Enter room no 1's name:kitchen\n",
      "Enter room no 1's area in square meters:200\n",
      "Enter room no 2's name:bedroom\n",
      "Enter room no 2's area in square meters:250\n",
      "kitchen 200.0\n",
      "bedroom 250.0\n"
     ]
    }
   ],
   "source": [
    "#Q9\n",
    "\n",
    "number_of_rooms = int(input(\"Enter your no of rooms:\"))\n",
    "rooms = []\n",
    "for i in range(number_of_rooms):\n",
    "    r_name = input(\"Enter room no {}'s name:\".format(i+1))\n",
    "    r_area = float(input(\"Enter room no {}'s area in square meters:\".format(i+1)))\n",
    "    rooms.append(r_name + ' ' + str(r_area))\n",
    "for room in rooms:\n",
    "    print(room)"
   ]
  },
  {
   "cell_type": "code",
   "execution_count": null,
   "metadata": {},
   "outputs": [],
   "source": []
  },
  {
   "cell_type": "code",
   "execution_count": 5,
   "metadata": {},
   "outputs": [
    {
     "name": "stdout",
     "output_type": "stream",
     "text": [
      "Enter Student's name:irham\n",
      "Enter Student's' gpa:3\n",
      "Enter Student's' gpa:3\n",
      "Enter Student's' gpa:2\n",
      "Enter Student's' gpa:2\n",
      "Enter Student's' gpa:3\n",
      "Enter Student's' gpa:4\n",
      "[{'name': 'irham', 'gpas of 6 semesters': 0, 'gpa1': 3.0, 'gpa2': 3.0, 'gpa3': 2.0, 'gpa4': 2.0, 'gpa5': 3.0, 'gpa6': 4.0}]\n",
      "Enter Student's name:jamal\n",
      "Enter Student's' gpa:1\n",
      "Enter Student's' gpa:2\n",
      "Enter Student's' gpa:3\n",
      "Enter Student's' gpa:1\n",
      "Enter Student's' gpa:2\n",
      "Enter Student's' gpa:3\n",
      "[{'name': 'irham', 'gpas of 6 semesters': 0, 'gpa1': 3.0, 'gpa2': 3.0, 'gpa3': 2.0, 'gpa4': 2.0, 'gpa5': 3.0, 'gpa6': 4.0}, {'name': 'jamal', 'gpas of 6 semesters': 0, 'gpa1': 1.0, 'gpa2': 2.0, 'gpa3': 3.0, 'gpa4': 1.0, 'gpa5': 2.0, 'gpa6': 3.0}]\n",
      "Enter Student's name:irham\n",
      "Enter Student's' gpa:2\n",
      "Enter Student's' gpa:3\n",
      "Enter Student's' gpa:2\n",
      "Enter Student's' gpa:3\n",
      "Enter Student's' gpa:2\n",
      "Enter Student's' gpa:1\n",
      "[{'name': 'irham', 'gpas of 6 semesters': 0, 'gpa1': 3.0, 'gpa2': 3.0, 'gpa3': 2.0, 'gpa4': 2.0, 'gpa5': 3.0, 'gpa6': 4.0}, {'name': 'jamal', 'gpas of 6 semesters': 0, 'gpa1': 1.0, 'gpa2': 2.0, 'gpa3': 3.0, 'gpa4': 1.0, 'gpa5': 2.0, 'gpa6': 3.0}, {'name': 'irham', 'gpas of 6 semesters': 0, 'gpa1': 2.0, 'gpa2': 3.0, 'gpa3': 2.0, 'gpa4': 3.0, 'gpa5': 2.0, 'gpa6': 1.0}]\n"
     ]
    }
   ],
   "source": [
    "#Q10\n",
    "\n",
    "students = []\n",
    "student = {\"name\":\" \",\"gpas of 6 semesters\":0}\n",
    "for i in range(3):\n",
    "    student[\"name\"] = input(\"Enter Student's name:\")\n",
    "    student[\"gpa1\"] = float(input(\"Enter Student's' gpa:\"))\n",
    "    student[\"gpa2\"] = float(input(\"Enter Student's' gpa:\"))\n",
    "    student[\"gpa3\"] = float(input(\"Enter Student's' gpa:\"))\n",
    "    student[\"gpa4\"] = float(input(\"Enter Student's' gpa:\"))\n",
    "    student[\"gpa5\"] = float(input(\"Enter Student's' gpa:\"))\n",
    "    student[\"gpa6\"] = float(input(\"Enter Student's' gpa:\"))\n",
    "    students.append(student.copy())\n",
    "    \n",
    "    print(students)\n",
    "    \n",
    "    "
   ]
  },
  {
   "cell_type": "code",
   "execution_count": 11,
   "metadata": {},
   "outputs": [
    {
     "data": {
      "text/plain": [
       "[{'name': 'irham',\n",
       "  'gpas of 6 semesters': 0,\n",
       "  'gpa1': 3.0,\n",
       "  'gpa2': 3.0,\n",
       "  'gpa3': 2.0,\n",
       "  'gpa4': 2.0,\n",
       "  'gpa5': 3.0,\n",
       "  'gpa6': 4.0},\n",
       " {'name': 'jamal',\n",
       "  'gpas of 6 semesters': 0,\n",
       "  'gpa1': 1.0,\n",
       "  'gpa2': 2.0,\n",
       "  'gpa3': 3.0,\n",
       "  'gpa4': 1.0,\n",
       "  'gpa5': 2.0,\n",
       "  'gpa6': 3.0},\n",
       " {'name': 'irham',\n",
       "  'gpas of 6 semesters': 0,\n",
       "  'gpa1': 2.0,\n",
       "  'gpa2': 3.0,\n",
       "  'gpa3': 2.0,\n",
       "  'gpa4': 3.0,\n",
       "  'gpa5': 2.0,\n",
       "  'gpa6': 1.0}]"
      ]
     },
     "execution_count": 11,
     "metadata": {},
     "output_type": "execute_result"
    }
   ],
   "source": [
    "students"
   ]
  },
  {
   "cell_type": "code",
   "execution_count": null,
   "metadata": {},
   "outputs": [],
   "source": []
  },
  {
   "cell_type": "code",
   "execution_count": null,
   "metadata": {},
   "outputs": [],
   "source": []
  },
  {
   "cell_type": "code",
   "execution_count": null,
   "metadata": {},
   "outputs": [],
   "source": []
  }
 ],
 "metadata": {
  "kernelspec": {
   "display_name": "Python 3 (ipykernel)",
   "language": "python",
   "name": "python3"
  },
  "language_info": {
   "codemirror_mode": {
    "name": "ipython",
    "version": 3
   },
   "file_extension": ".py",
   "mimetype": "text/x-python",
   "name": "python",
   "nbconvert_exporter": "python",
   "pygments_lexer": "ipython3",
   "version": "3.10.2"
  }
 },
 "nbformat": 4,
 "nbformat_minor": 2
}
